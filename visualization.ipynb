{
 "cells": [
  {
   "cell_type": "code",
   "execution_count": 111,
   "metadata": {
    "collapsed": true
   },
   "outputs": [],
   "source": [
    "import bokeh\n",
    "import pandas as pd\n",
    "import json\n",
    "from lxml import html\n",
    "from collections import defaultdict\n",
    "import requests\n",
    "import json\n"
   ]
  },
  {
   "cell_type": "code",
   "execution_count": 112,
   "metadata": {},
   "outputs": [],
   "source": [
    "import parse_html"
   ]
  },
  {
   "cell_type": "code",
   "execution_count": 113,
   "metadata": {},
   "outputs": [
    {
     "data": {
      "text/html": [
       "<div>\n",
       "<style>\n",
       "    .dataframe thead tr:only-child th {\n",
       "        text-align: right;\n",
       "    }\n",
       "\n",
       "    .dataframe thead th {\n",
       "        text-align: left;\n",
       "    }\n",
       "\n",
       "    .dataframe tbody tr th {\n",
       "        vertical-align: top;\n",
       "    }\n",
       "</style>\n",
       "<table border=\"1\" class=\"dataframe\">\n",
       "  <thead>\n",
       "    <tr style=\"text-align: right;\">\n",
       "      <th></th>\n",
       "      <th>0.KS</th>\n",
       "      <th>0.SS</th>\n",
       "      <th>0.VS</th>\n",
       "      <th>0.amount</th>\n",
       "      <th>0.date</th>\n",
       "      <th>0.messege</th>\n",
       "      <th>0.name</th>\n",
       "      <th>0.note</th>\n",
       "      <th>0.type</th>\n",
       "      <th>1.KS</th>\n",
       "      <th>...</th>\n",
       "      <th>8.type</th>\n",
       "      <th>9.KS</th>\n",
       "      <th>9.SS</th>\n",
       "      <th>9.VS</th>\n",
       "      <th>9.amount</th>\n",
       "      <th>9.date</th>\n",
       "      <th>9.messege</th>\n",
       "      <th>9.name</th>\n",
       "      <th>9.note</th>\n",
       "      <th>9.type</th>\n",
       "    </tr>\n",
       "  </thead>\n",
       "  <tbody>\n",
       "    <tr>\n",
       "      <th>0</th>\n",
       "      <td>0000</td>\n",
       "      <td></td>\n",
       "      <td>7511041582</td>\n",
       "      <td>500.0</td>\n",
       "      <td>15.06.2017</td>\n",
       "      <td>\\n\\t\\t</td>\n",
       "      <td>Martin Literák</td>\n",
       "      <td>Martin Literák</td>\n",
       "      <td>Bezhotovostní příjem</td>\n",
       "      <td></td>\n",
       "      <td>...</td>\n",
       "      <td>Bezhotovostní příjem</td>\n",
       "      <td></td>\n",
       "      <td></td>\n",
       "      <td>11501</td>\n",
       "      <td>222.0</td>\n",
       "      <td>02.06.2017</td>\n",
       "      <td>\\n\\t\\t</td>\n",
       "      <td>Bučková Bronislava</td>\n",
       "      <td>Bučková Bronislava</td>\n",
       "      <td>Bezhotovostní příjem</td>\n",
       "    </tr>\n",
       "  </tbody>\n",
       "</table>\n",
       "<p>1 rows × 99 columns</p>\n",
       "</div>"
      ],
      "text/plain": [
       "   0.KS 0.SS        0.VS  0.amount      0.date 0.messege          0.name  \\\n",
       "0  0000       7511041582     500.0  15.06.2017    \\n\\t\\t  Martin Literák   \n",
       "\n",
       "           0.note                0.type 1.KS          ...           \\\n",
       "0  Martin Literák  Bezhotovostní příjem               ...            \n",
       "\n",
       "                 8.type 9.KS  9.SS   9.VS 9.amount      9.date 9.messege  \\\n",
       "0  Bezhotovostní příjem             11501    222.0  02.06.2017    \\n\\t\\t   \n",
       "\n",
       "               9.name              9.note                9.type  \n",
       "0  Bučková Bronislava  Bučková Bronislava  Bezhotovostní příjem  \n",
       "\n",
       "[1 rows x 99 columns]"
      ]
     },
     "execution_count": 113,
     "metadata": {},
     "output_type": "execute_result"
    }
   ],
   "source": [
    "from pandas.io.json import json_normalize\n",
    "d = from_html_to_json('https://www.fio.cz/ib2/transparent?a=2600088789')\n",
    "data = json.loads(d)\n",
    "json_normalize(data)"
   ]
  },
  {
   "cell_type": "code",
   "execution_count": null,
   "metadata": {
    "collapsed": true
   },
   "outputs": [],
   "source": []
  }
 ],
 "metadata": {
  "kernelspec": {
   "display_name": "Python 3",
   "language": "python",
   "name": "python3"
  },
  "language_info": {
   "codemirror_mode": {
    "name": "ipython",
    "version": 3
   },
   "file_extension": ".py",
   "mimetype": "text/x-python",
   "name": "python",
   "nbconvert_exporter": "python",
   "pygments_lexer": "ipython3",
   "version": "3.5.2"
  }
 },
 "nbformat": 4,
 "nbformat_minor": 2
}
