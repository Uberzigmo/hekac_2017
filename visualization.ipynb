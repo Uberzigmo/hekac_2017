{
 "cells": [
  {
   "cell_type": "code",
   "execution_count": 9,
   "metadata": {
    "collapsed": true
   },
   "outputs": [],
   "source": [
    "import bokeh\n",
    "import pandas as pd\n",
    "import json"
   ]
  },
  {
   "cell_type": "code",
   "execution_count": 108,
   "metadata": {},
   "outputs": [
    {
     "name": "stdout",
     "output_type": "stream",
     "text": [
      "{\"0\": {\"messege\": \"\\n\\t\\t\", \"date\": \"15.06.2017\", \"SS\": \"\", \"VS\": \"7511041582\", \"note\": \"Martin Liter\\u00e1k\", \"name\": \"Martin Liter\\u00e1k\", \"type\": \"Bezhotovostn\\u00ed p\\u0159\\u00edjem\", \"KS\": \"0000\", \"amount\": 500.0}, \"1\": {\"messege\": \"\\n\\t\\t\\n\\t\\t\\n\\t\\t\\n\\t\\t\\n\\t\\t\\n\\t\", \"date\": \"15.06.2017\", \"SS\": \"\", \"VS\": \"\", \"note\": \"Tesa\\u0159 Tom\\u00e1\\u0161\", \"name\": \"Tesa\\u0159 Tom\\u00e1\\u0161\", \"type\": \"Bezhotovostn\\u00ed p\\u0159\\u00edjem\", \"KS\": \"\", \"amount\": 200.0}, \"2\": {\"messege\": \"\\n\\t\\t\\n\\t\\t\\n\\t\\t\\n\\t\\t\\n\\t\\t\\n\\t\", \"date\": \"15.06.2017\", \"SS\": \"\", \"VS\": \"\", \"note\": \"Michali\\u010dka J\\u00e1n,Mgr.\", \"name\": \"Michali\\u010dka J\\u00e1n,Mgr.\", \"type\": \"Bezhotovostn\\u00ed p\\u0159\\u00edjem\", \"KS\": \"\", \"amount\": 100.0}, \"3\": {\"messege\": \"\\n\\t\\t\\n\\t\\t\\n\\t\\t\\n\\t\\t\\n\\t\\t\\n\\t\", \"date\": \"15.06.2017\", \"SS\": \"\", \"VS\": \"120600\", \"note\": \"Novotn\\u00e1 Marie\", \"name\": \"Novotn\\u00e1 Marie\", \"type\": \"Bezhotovostn\\u00ed p\\u0159\\u00edjem\", \"KS\": \"\", \"amount\": 100.0}, \"4\": {\"messege\": \"\\n\\t\\t\\n\\t\\t\\n\\t\\t\\n\\t\\t\\n\\t\\t\\n\\t\", \"date\": \"12.06.2017\", \"SS\": \"\", \"VS\": \"121301\", \"note\": \"Radek Malenovsk\\u00fd\", \"name\": \"Radek Malenovsk\\u00fd\", \"type\": \"Bezhotovostn\\u00ed p\\u0159\\u00edjem\", \"KS\": \"0308\", \"amount\": 100.0}, \"5\": {\"messege\": \"\\n\\t\\t\", \"date\": \"12.06.2017\", \"SS\": \"\", \"VS\": \"6352252115\", \"note\": \"  BE\\u0160IREVI\\u010c GORAN\", \"name\": \"  BE\\u0160IREVI\\u010c GORAN\", \"type\": \"Bezhotovostn\\u00ed p\\u0159\\u00edjem\", \"KS\": \"\", \"amount\": 100.0}, \"6\": {\"messege\": \"\\n\\t\\t\\n\\t\\t\\n\\t\\t\\n\\t\\t\\n\\t\\t\\n\\t\", \"date\": \"07.06.2017\", \"SS\": \"\", \"VS\": \"11466301\", \"note\": \"PRE 8.6.\", \"name\": \"\", \"type\": \"Bezhotovostn\\u00ed platba\", \"KS\": \"\", \"amount\": -1540.0}, \"7\": {\"messege\": \"\\n\\t\\t\\n\\t\\t\\n\\t\\t\\n\\t\\t\\n\\t\\t\\n\\t\", \"date\": \"07.06.2017\", \"SS\": \"\", \"VS\": \"11466301\", \"note\": \"PRE 9.5.\", \"name\": \"\", \"type\": \"Bezhotovostn\\u00ed platba\", \"KS\": \"\", \"amount\": -1540.0}, \"8\": {\"messege\": \"\\n\\t\\t\\n\\t\\t\\n\\t\\t\\n\\t\\t\\n\\t\\t\\n\\t\", \"date\": \"05.06.2017\", \"SS\": \"0\", \"VS\": \"602475232\", \"note\": \"NEMETHOV\\u00c1 MARK\\u00c9TA\", \"name\": \"NEMETHOV\\u00c1 MARK\\u00c9TA\", \"type\": \"Bezhotovostn\\u00ed p\\u0159\\u00edjem\", \"KS\": \"0000\", \"amount\": 100.0}, \"9\": {\"messege\": \"\\n\\t\\t\", \"date\": \"02.06.2017\", \"SS\": \"\", \"VS\": \"11501\", \"note\": \"Bu\\u010dkov\\u00e1 Bronislava\", \"name\": \"Bu\\u010dkov\\u00e1 Bronislava\", \"type\": \"Bezhotovostn\\u00ed p\\u0159\\u00edjem\", \"KS\": \"\", \"amount\": 222.0}, \"10\": {\"messege\": \"\\n\\t\\t\", \"date\": \"19.05.2017\", \"SS\": \"\", \"VS\": \"\", \"note\": \"LENKA BILLOVA\", \"name\": \"LENKA BILLOVA\", \"type\": \"Bezhotovostn\\u00ed p\\u0159\\u00edjem\", \"KS\": \"\", \"amount\": 100.0}}\n"
     ]
    }
   ],
   "source": [
    "from lxml import html\n",
    "from collections import defaultdict\n",
    "import requests\n",
    "import json\n",
    "\n",
    "def from_html_to_json(url):\n",
    "\n",
    "    requests_session = requests.session()\n",
    "    page = requests_session.get(url)\n",
    "\n",
    "    html_tree = html.fromstring(page.content)\n",
    "\n",
    "    if 'www.fio.cz' in url:\n",
    "\n",
    "        structure = ('date', 'amount', 'type', 'name', 'messege', 'KS', 'VS', 'SS', 'note')\n",
    "\n",
    "        transactions = defaultdict(lambda: {'date': '',\n",
    "                                            'amount': '',\n",
    "                                            'type': '',\n",
    "                                            'name': '',\n",
    "                                            'messege': '',\n",
    "                                            'KS': '',\n",
    "                                            'VS': '',\n",
    "                                            'SS': '',\n",
    "                                            'note': ''\n",
    "                                            })\n",
    "\n",
    "        # //table/tbody/tr/td[1]/text()\n",
    "\n",
    "        for tr in enumerate(html_tree.xpath('//table/tbody/tr')[1:]):\n",
    "            for piece in enumerate(structure):\n",
    "                if piece[0] == 1:\n",
    "                    transactions[tr[0]][piece[1]] = float(tr[1].xpath('td[2]/@data-value')[0])\n",
    "                else:\n",
    "                    try:\n",
    "                        transactions[tr[0]][piece[1]] = tr[1].xpath('td[{}]/text()'.format(piece[0]+1))[0]\n",
    "                    except IndexError:\n",
    "                        pass\n",
    "\n",
    "        return json.dumps(transactions)\n",
    "\n",
    "#from_html_to_json('https://www.fio.cz/ib2/transparent?a=2600088789')\n",
    "\n",
    "print(from_html_to_json('https://www.fio.cz/ib2/transparent?a=2600088789'))"
   ]
  },
  {
   "cell_type": "code",
   "execution_count": 109,
   "metadata": {},
   "outputs": [
    {
     "name": "stdout",
     "output_type": "stream",
     "text": [
      "{\"0\": {\"messege\": \"\\n\\t\\t\", \"date\": \"15.06.2017\", \"SS\": \"\", \"VS\": \"7511041582\", \"note\": \"Martin Liter\\u00e1k\", \"name\": \"Martin Liter\\u00e1k\", \"type\": \"Bezhotovostn\\u00ed p\\u0159\\u00edjem\", \"KS\": \"0000\", \"amount\": 500.0}, \"1\": {\"messege\": \"\\n\\t\\t\\n\\t\\t\\n\\t\\t\\n\\t\\t\\n\\t\\t\\n\\t\", \"date\": \"15.06.2017\", \"SS\": \"\", \"VS\": \"\", \"note\": \"Tesa\\u0159 Tom\\u00e1\\u0161\", \"name\": \"Tesa\\u0159 Tom\\u00e1\\u0161\", \"type\": \"Bezhotovostn\\u00ed p\\u0159\\u00edjem\", \"KS\": \"\", \"amount\": 200.0}, \"2\": {\"messege\": \"\\n\\t\\t\\n\\t\\t\\n\\t\\t\\n\\t\\t\\n\\t\\t\\n\\t\", \"date\": \"15.06.2017\", \"SS\": \"\", \"VS\": \"\", \"note\": \"Michali\\u010dka J\\u00e1n,Mgr.\", \"name\": \"Michali\\u010dka J\\u00e1n,Mgr.\", \"type\": \"Bezhotovostn\\u00ed p\\u0159\\u00edjem\", \"KS\": \"\", \"amount\": 100.0}, \"3\": {\"messege\": \"\\n\\t\\t\\n\\t\\t\\n\\t\\t\\n\\t\\t\\n\\t\\t\\n\\t\", \"date\": \"15.06.2017\", \"SS\": \"\", \"VS\": \"120600\", \"note\": \"Novotn\\u00e1 Marie\", \"name\": \"Novotn\\u00e1 Marie\", \"type\": \"Bezhotovostn\\u00ed p\\u0159\\u00edjem\", \"KS\": \"\", \"amount\": 100.0}, \"4\": {\"messege\": \"\\n\\t\\t\\n\\t\\t\\n\\t\\t\\n\\t\\t\\n\\t\\t\\n\\t\", \"date\": \"12.06.2017\", \"SS\": \"\", \"VS\": \"121301\", \"note\": \"Radek Malenovsk\\u00fd\", \"name\": \"Radek Malenovsk\\u00fd\", \"type\": \"Bezhotovostn\\u00ed p\\u0159\\u00edjem\", \"KS\": \"0308\", \"amount\": 100.0}, \"5\": {\"messege\": \"\\n\\t\\t\", \"date\": \"12.06.2017\", \"SS\": \"\", \"VS\": \"6352252115\", \"note\": \"  BE\\u0160IREVI\\u010c GORAN\", \"name\": \"  BE\\u0160IREVI\\u010c GORAN\", \"type\": \"Bezhotovostn\\u00ed p\\u0159\\u00edjem\", \"KS\": \"\", \"amount\": 100.0}, \"6\": {\"messege\": \"\\n\\t\\t\\n\\t\\t\\n\\t\\t\\n\\t\\t\\n\\t\\t\\n\\t\", \"date\": \"07.06.2017\", \"SS\": \"\", \"VS\": \"11466301\", \"note\": \"PRE 8.6.\", \"name\": \"\", \"type\": \"Bezhotovostn\\u00ed platba\", \"KS\": \"\", \"amount\": -1540.0}, \"7\": {\"messege\": \"\\n\\t\\t\\n\\t\\t\\n\\t\\t\\n\\t\\t\\n\\t\\t\\n\\t\", \"date\": \"07.06.2017\", \"SS\": \"\", \"VS\": \"11466301\", \"note\": \"PRE 9.5.\", \"name\": \"\", \"type\": \"Bezhotovostn\\u00ed platba\", \"KS\": \"\", \"amount\": -1540.0}, \"8\": {\"messege\": \"\\n\\t\\t\\n\\t\\t\\n\\t\\t\\n\\t\\t\\n\\t\\t\\n\\t\", \"date\": \"05.06.2017\", \"SS\": \"0\", \"VS\": \"602475232\", \"note\": \"NEMETHOV\\u00c1 MARK\\u00c9TA\", \"name\": \"NEMETHOV\\u00c1 MARK\\u00c9TA\", \"type\": \"Bezhotovostn\\u00ed p\\u0159\\u00edjem\", \"KS\": \"0000\", \"amount\": 100.0}, \"9\": {\"messege\": \"\\n\\t\\t\", \"date\": \"02.06.2017\", \"SS\": \"\", \"VS\": \"11501\", \"note\": \"Bu\\u010dkov\\u00e1 Bronislava\", \"name\": \"Bu\\u010dkov\\u00e1 Bronislava\", \"type\": \"Bezhotovostn\\u00ed p\\u0159\\u00edjem\", \"KS\": \"\", \"amount\": 222.0}, \"10\": {\"messege\": \"\\n\\t\\t\", \"date\": \"19.05.2017\", \"SS\": \"\", \"VS\": \"\", \"note\": \"LENKA BILLOVA\", \"name\": \"LENKA BILLOVA\", \"type\": \"Bezhotovostn\\u00ed p\\u0159\\u00edjem\", \"KS\": \"\", \"amount\": 100.0}}\n"
     ]
    }
   ],
   "source": [
    "import parse_html"
   ]
  },
  {
   "cell_type": "code",
   "execution_count": 107,
   "metadata": {},
   "outputs": [
    {
     "data": {
      "text/html": [
       "<div>\n",
       "<style>\n",
       "    .dataframe thead tr:only-child th {\n",
       "        text-align: right;\n",
       "    }\n",
       "\n",
       "    .dataframe thead th {\n",
       "        text-align: left;\n",
       "    }\n",
       "\n",
       "    .dataframe tbody tr th {\n",
       "        vertical-align: top;\n",
       "    }\n",
       "</style>\n",
       "<table border=\"1\" class=\"dataframe\">\n",
       "  <thead>\n",
       "    <tr style=\"text-align: right;\">\n",
       "      <th></th>\n",
       "      <th>0.KS</th>\n",
       "      <th>0.SS</th>\n",
       "      <th>0.VS</th>\n",
       "      <th>0.amount</th>\n",
       "      <th>0.date</th>\n",
       "      <th>0.messege</th>\n",
       "      <th>0.name</th>\n",
       "      <th>0.note</th>\n",
       "      <th>0.type</th>\n",
       "      <th>1.KS</th>\n",
       "      <th>...</th>\n",
       "      <th>8.type</th>\n",
       "      <th>9.KS</th>\n",
       "      <th>9.SS</th>\n",
       "      <th>9.VS</th>\n",
       "      <th>9.amount</th>\n",
       "      <th>9.date</th>\n",
       "      <th>9.messege</th>\n",
       "      <th>9.name</th>\n",
       "      <th>9.note</th>\n",
       "      <th>9.type</th>\n",
       "    </tr>\n",
       "  </thead>\n",
       "  <tbody>\n",
       "    <tr>\n",
       "      <th>0</th>\n",
       "      <td>0000</td>\n",
       "      <td></td>\n",
       "      <td>7511041582</td>\n",
       "      <td>500.0</td>\n",
       "      <td>15.06.2017</td>\n",
       "      <td>\\n\\t\\t</td>\n",
       "      <td>Martin Literák</td>\n",
       "      <td>Martin Literák</td>\n",
       "      <td>Bezhotovostní příjem</td>\n",
       "      <td></td>\n",
       "      <td>...</td>\n",
       "      <td>Bezhotovostní příjem</td>\n",
       "      <td></td>\n",
       "      <td></td>\n",
       "      <td>11501</td>\n",
       "      <td>222.0</td>\n",
       "      <td>02.06.2017</td>\n",
       "      <td>\\n\\t\\t</td>\n",
       "      <td>Bučková Bronislava</td>\n",
       "      <td>Bučková Bronislava</td>\n",
       "      <td>Bezhotovostní příjem</td>\n",
       "    </tr>\n",
       "  </tbody>\n",
       "</table>\n",
       "<p>1 rows × 99 columns</p>\n",
       "</div>"
      ],
      "text/plain": [
       "   0.KS 0.SS        0.VS  0.amount      0.date 0.messege          0.name  \\\n",
       "0  0000       7511041582     500.0  15.06.2017    \\n\\t\\t  Martin Literák   \n",
       "\n",
       "           0.note                0.type 1.KS          ...           \\\n",
       "0  Martin Literák  Bezhotovostní příjem               ...            \n",
       "\n",
       "                 8.type 9.KS  9.SS   9.VS 9.amount      9.date 9.messege  \\\n",
       "0  Bezhotovostní příjem             11501    222.0  02.06.2017    \\n\\t\\t   \n",
       "\n",
       "               9.name              9.note                9.type  \n",
       "0  Bučková Bronislava  Bučková Bronislava  Bezhotovostní příjem  \n",
       "\n",
       "[1 rows x 99 columns]"
      ]
     },
     "execution_count": 107,
     "metadata": {},
     "output_type": "execute_result"
    }
   ],
   "source": [
    "from pandas.io.json import json_normalize\n",
    "d = from_html_to_json('https://www.fio.cz/ib2/transparent?a=2600088789')\n",
    "data = json.loads(d)\n",
    "json_normalize(data)"
   ]
  },
  {
   "cell_type": "code",
   "execution_count": null,
   "metadata": {
    "collapsed": true
   },
   "outputs": [],
   "source": []
  },
  {
   "cell_type": "code",
   "execution_count": null,
   "metadata": {
    "collapsed": true
   },
   "outputs": [],
   "source": []
  },
  {
   "cell_type": "code",
   "execution_count": null,
   "metadata": {
    "collapsed": true
   },
   "outputs": [],
   "source": []
  },
  {
   "cell_type": "code",
   "execution_count": null,
   "metadata": {
    "collapsed": true
   },
   "outputs": [],
   "source": []
  },
  {
   "cell_type": "code",
   "execution_count": null,
   "metadata": {
    "collapsed": true
   },
   "outputs": [],
   "source": []
  },
  {
   "cell_type": "code",
   "execution_count": null,
   "metadata": {
    "collapsed": true
   },
   "outputs": [],
   "source": []
  },
  {
   "cell_type": "code",
   "execution_count": 91,
   "metadata": {},
   "outputs": [
    {
     "name": "stderr",
     "output_type": "stream",
     "text": [
      "/home/zuzi/hackathon/2017/hekac_2017/venv/lib/python3.5/site-packages/ipykernel_launcher.py:35: DeprecationWarning: \n",
      "Panel is deprecated and will be removed in a future version.\n",
      "The recommended way to represent these types of 3-dimensional data are with a MultiIndex on a DataFrame, via the Panel.to_frame() method\n",
      "Alternatively, you can use the xarray package http://xarray.pydata.org/en/stable/.\n",
      "Pandas provides a `.to_xarray()` method to help automate this conversion.\n",
      "\n"
     ]
    },
    {
     "data": {
      "text/plain": [
       "'\\n\\t\\t100,00\\xa0CZK\\n\\t'"
      ]
     },
     "execution_count": 91,
     "metadata": {},
     "output_type": "execute_result"
    }
   ],
   "source": [
    "df = from_html_to_csv('https://www.fio.cz/ib2/transparent?a=2600088789')\n",
    "df.xpath('//*/tbody/tr[3]/td[2]')[0].text"
   ]
  },
  {
   "cell_type": "code",
   "execution_count": 93,
   "metadata": {},
   "outputs": [
    {
     "name": "stderr",
     "output_type": "stream",
     "text": [
      "/home/zuzi/hackathon/2017/hekac_2017/venv/lib/python3.5/site-packages/ipykernel_launcher.py:35: DeprecationWarning: \n",
      "Panel is deprecated and will be removed in a future version.\n",
      "The recommended way to represent these types of 3-dimensional data are with a MultiIndex on a DataFrame, via the Panel.to_frame() method\n",
      "Alternatively, you can use the xarray package http://xarray.pydata.org/en/stable/.\n",
      "Pandas provides a `.to_xarray()` method to help automate this conversion.\n",
      "\n"
     ]
    },
    {
     "data": {
      "text/plain": [
       "'Radek Malenovský'"
      ]
     },
     "execution_count": 93,
     "metadata": {},
     "output_type": "execute_result"
    }
   ],
   "source": [
    "df = from_html_to_csv('https://www.fio.cz/ib2/transparent?a=2600088789')\n",
    "df.xpath('//*/tbody/tr[5]/td[4]')[0].text"
   ]
  },
  {
   "cell_type": "code",
   "execution_count": 88,
   "metadata": {},
   "outputs": [
    {
     "name": "stderr",
     "output_type": "stream",
     "text": [
      "/home/zuzi/hackathon/2017/hekac_2017/venv/lib/python3.5/site-packages/ipykernel_launcher.py:35: DeprecationWarning: \n",
      "Panel is deprecated and will be removed in a future version.\n",
      "The recommended way to represent these types of 3-dimensional data are with a MultiIndex on a DataFrame, via the Panel.to_frame() method\n",
      "Alternatively, you can use the xarray package http://xarray.pydata.org/en/stable/.\n",
      "Pandas provides a `.to_xarray()` method to help automate this conversion.\n",
      "\n"
     ]
    },
    {
     "data": {
      "text/html": [
       "<div>\n",
       "<style>\n",
       "    .dataframe thead tr:only-child th {\n",
       "        text-align: right;\n",
       "    }\n",
       "\n",
       "    .dataframe thead th {\n",
       "        text-align: left;\n",
       "    }\n",
       "\n",
       "    .dataframe tbody tr th {\n",
       "        vertical-align: top;\n",
       "    }\n",
       "</style>\n",
       "<table border=\"1\" class=\"dataframe\">\n",
       "  <thead>\n",
       "    <tr style=\"text-align: right;\">\n",
       "      <th></th>\n",
       "      <th></th>\n",
       "      <th>0</th>\n",
       "      <th>1</th>\n",
       "      <th>2</th>\n",
       "      <th>3</th>\n",
       "      <th>4</th>\n",
       "      <th>5</th>\n",
       "      <th>6</th>\n",
       "      <th>7</th>\n",
       "      <th>8</th>\n",
       "      <th>9</th>\n",
       "      <th>10</th>\n",
       "    </tr>\n",
       "    <tr>\n",
       "      <th>major</th>\n",
       "      <th>minor</th>\n",
       "      <th></th>\n",
       "      <th></th>\n",
       "      <th></th>\n",
       "      <th></th>\n",
       "      <th></th>\n",
       "      <th></th>\n",
       "      <th></th>\n",
       "      <th></th>\n",
       "      <th></th>\n",
       "      <th></th>\n",
       "      <th></th>\n",
       "    </tr>\n",
       "  </thead>\n",
       "  <tbody>\n",
       "    <tr>\n",
       "      <th rowspan=\"9\" valign=\"top\">0</th>\n",
       "      <th>KS</th>\n",
       "      <td></td>\n",
       "      <td></td>\n",
       "      <td></td>\n",
       "      <td></td>\n",
       "      <td></td>\n",
       "      <td></td>\n",
       "      <td></td>\n",
       "      <td></td>\n",
       "      <td></td>\n",
       "      <td></td>\n",
       "      <td></td>\n",
       "    </tr>\n",
       "    <tr>\n",
       "      <th>SS</th>\n",
       "      <td></td>\n",
       "      <td></td>\n",
       "      <td></td>\n",
       "      <td></td>\n",
       "      <td></td>\n",
       "      <td></td>\n",
       "      <td></td>\n",
       "      <td></td>\n",
       "      <td></td>\n",
       "      <td></td>\n",
       "      <td></td>\n",
       "    </tr>\n",
       "    <tr>\n",
       "      <th>VS</th>\n",
       "      <td></td>\n",
       "      <td></td>\n",
       "      <td></td>\n",
       "      <td></td>\n",
       "      <td></td>\n",
       "      <td></td>\n",
       "      <td></td>\n",
       "      <td></td>\n",
       "      <td></td>\n",
       "      <td></td>\n",
       "      <td></td>\n",
       "    </tr>\n",
       "    <tr>\n",
       "      <th>amount</th>\n",
       "      <td></td>\n",
       "      <td></td>\n",
       "      <td></td>\n",
       "      <td></td>\n",
       "      <td></td>\n",
       "      <td></td>\n",
       "      <td></td>\n",
       "      <td></td>\n",
       "      <td></td>\n",
       "      <td></td>\n",
       "      <td></td>\n",
       "    </tr>\n",
       "    <tr>\n",
       "      <th>date</th>\n",
       "      <td>15.06.2017</td>\n",
       "      <td>15.06.2017</td>\n",
       "      <td>15.06.2017</td>\n",
       "      <td>15.06.2017</td>\n",
       "      <td>12.06.2017</td>\n",
       "      <td>12.06.2017</td>\n",
       "      <td>07.06.2017</td>\n",
       "      <td>07.06.2017</td>\n",
       "      <td>05.06.2017</td>\n",
       "      <td>02.06.2017</td>\n",
       "      <td>19.05.2017</td>\n",
       "    </tr>\n",
       "    <tr>\n",
       "      <th>messege</th>\n",
       "      <td></td>\n",
       "      <td></td>\n",
       "      <td></td>\n",
       "      <td></td>\n",
       "      <td></td>\n",
       "      <td></td>\n",
       "      <td></td>\n",
       "      <td></td>\n",
       "      <td></td>\n",
       "      <td></td>\n",
       "      <td></td>\n",
       "    </tr>\n",
       "    <tr>\n",
       "      <th>name</th>\n",
       "      <td></td>\n",
       "      <td></td>\n",
       "      <td></td>\n",
       "      <td></td>\n",
       "      <td></td>\n",
       "      <td></td>\n",
       "      <td></td>\n",
       "      <td></td>\n",
       "      <td></td>\n",
       "      <td></td>\n",
       "      <td></td>\n",
       "    </tr>\n",
       "    <tr>\n",
       "      <th>note</th>\n",
       "      <td></td>\n",
       "      <td></td>\n",
       "      <td></td>\n",
       "      <td></td>\n",
       "      <td></td>\n",
       "      <td></td>\n",
       "      <td></td>\n",
       "      <td></td>\n",
       "      <td></td>\n",
       "      <td></td>\n",
       "      <td></td>\n",
       "    </tr>\n",
       "    <tr>\n",
       "      <th>type</th>\n",
       "      <td></td>\n",
       "      <td></td>\n",
       "      <td></td>\n",
       "      <td></td>\n",
       "      <td></td>\n",
       "      <td></td>\n",
       "      <td></td>\n",
       "      <td></td>\n",
       "      <td></td>\n",
       "      <td></td>\n",
       "      <td></td>\n",
       "    </tr>\n",
       "  </tbody>\n",
       "</table>\n",
       "</div>"
      ],
      "text/plain": [
       "                       0           1           2           3           4   \\\n",
       "major minor                                                                 \n",
       "0     KS                                                                    \n",
       "      SS                                                                    \n",
       "      VS                                                                    \n",
       "      amount                                                                \n",
       "      date     15.06.2017  15.06.2017  15.06.2017  15.06.2017  12.06.2017   \n",
       "      messege                                                               \n",
       "      name                                                                  \n",
       "      note                                                                  \n",
       "      type                                                                  \n",
       "\n",
       "                       5           6           7           8           9   \\\n",
       "major minor                                                                 \n",
       "0     KS                                                                    \n",
       "      SS                                                                    \n",
       "      VS                                                                    \n",
       "      amount                                                                \n",
       "      date     12.06.2017  07.06.2017  07.06.2017  05.06.2017  02.06.2017   \n",
       "      messege                                                               \n",
       "      name                                                                  \n",
       "      note                                                                  \n",
       "      type                                                                  \n",
       "\n",
       "                       10  \n",
       "major minor                \n",
       "0     KS                   \n",
       "      SS                   \n",
       "      VS                   \n",
       "      amount               \n",
       "      date     19.05.2017  \n",
       "      messege              \n",
       "      name                 \n",
       "      note                 \n",
       "      type                 "
      ]
     },
     "execution_count": 88,
     "metadata": {},
     "output_type": "execute_result"
    }
   ],
   "source": [
    "df = from_html_to_csv('https://www.fio.cz/ib2/transparent?a=2600088789')\n",
    "df"
   ]
  },
  {
   "cell_type": "code",
   "execution_count": null,
   "metadata": {
    "collapsed": true
   },
   "outputs": [],
   "source": []
  }
 ],
 "metadata": {
  "kernelspec": {
   "display_name": "Python 3",
   "language": "python",
   "name": "python3"
  },
  "language_info": {
   "codemirror_mode": {
    "name": "ipython",
    "version": 3
   },
   "file_extension": ".py",
   "mimetype": "text/x-python",
   "name": "python",
   "nbconvert_exporter": "python",
   "pygments_lexer": "ipython3",
   "version": "3.5.2"
  }
 },
 "nbformat": 4,
 "nbformat_minor": 2
}
